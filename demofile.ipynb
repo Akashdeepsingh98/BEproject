{
 "cells": [
  {
   "cell_type": "code",
   "execution_count": null,
   "metadata": {},
   "outputs": [],
   "source": [
    "\n",
    "import tensorflow as tf\n",
    "import numpy as np\n",
    "logdir=\"logboard\"\n",
    "tensorboard_callback = tf.keras.callbacks.TensorBoard(log_dir=logdir)\n",
    "dataset = tf.keras.datasets.mnist\n",
    "(x_train, y_train), (x_test, y_test) = dataset.load_data()\n",
    "model = tf.keras.models.Sequential([\n",
    "    tf.keras.layers.Flatten(input_shape=(28,28))\n",
    "        ,tf.keras.layers.Dense(128, activation=tf.nn.relu)\n",
    "        ,tf.keras.layers.Dropout(0.2)\n",
    "        ,tf.keras.layers.Dense(10, activation=tf.nn.relu)])\n",
    "model.compile(optimizer='adam',\n",
    "    loss='sparse_categorical_crossentropy',\n",
    "    metrics=['accuracy'])\n",
    "model.fit(x_train, y_train, epochs=5, callbacks=[tensorboard_callback])\n",
    "model.evaluate(x_test,  y_test, verbose=2)\n",
    "model.save('returnfile.h5')"
   ]
  }
 ],
 "metadata": {},
 "nbformat": 4,
 "nbformat_minor": 2
}
