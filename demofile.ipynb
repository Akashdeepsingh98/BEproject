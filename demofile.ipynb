{
 "cells": [
  {
   "cell_type": "code",
   "execution_count": null,
   "metadata": {},
   "outputs": [],
   "source": [
    "\n",
    "import tensorflow as tf\n",
    "import numpy as np\n",
    "logdir=\"logboard\"\n",
    "tensorboard_callback = tf.keras.callbacks.TensorBoard(log_dir=logdir)\n",
    "def vectorize(sequences, dimension = 10000):\n",
    "    results = np.zeros((len(sequences), dimension))\n",
    "    for i, sequence in enumerate(sequences):\n",
    "        results[i][sequence] = 1\n",
    "    return results\n",
    "\n",
    "dataset = tf.keras.datasets.imdb\n",
    "(x_train, y_train), (x_test, y_test) = dataset.load_data()\n",
    "x_train = vectorize(x_train)\n",
    "y_train = vectorize(y_train)\n",
    "        \n",
    "model = tf.keras.models.Sequential([\n",
    "    tf.keras.layers.Dense(input_shape=(10000))\n",
    "        ,tf.keras.layers.Dropout(0.3,noise_shape=None, seed=None)\n",
    "        ,tf.keras.layers.Dense(50, activation=tf.nn.relu)\n",
    "        ,tf.keras.layers.Dropout(0.2,noise_shape=None, seed=None)\n",
    "        ,tf.keras.layers.Dense(50, activation=tf.nn.relu)\n",
    "        ,tf.keras.layers.Dense(1, activation=tf.nn.softmax)])\n",
    "model.compile(optimizer='adam',\n",
    "    loss='sparse_categorical_crossentropy',\n",
    "    metrics=['accuracy'])\n",
    "model.fit(x_train, y_train, epochs=5, callbacks=[tensorboard_callback])\n",
    "model.evaluate(x_test,  y_test, verbose=2)\n",
    "model.save('returnfile.h5')"
   ]
  }
 ],
 "metadata": {},
 "nbformat": 4,
 "nbformat_minor": 4
}
